{
 "cells": [
  {
   "cell_type": "markdown",
   "id": "74d3a7b0-0117-40c0-8563-b57628cc1dcf",
   "metadata": {
    "tags": []
   },
   "source": [
    "# Linking Writing Processes to Writing Quality\n",
    "## Use typing behavior to predict essay quality"
   ]
  },
  {
   "cell_type": "code",
   "execution_count": 2,
   "id": "4024f818-0219-46b3-a718-6375f66bee20",
   "metadata": {},
   "outputs": [],
   "source": [
    "import pandas as pd\n",
    "\n",
    "df_train = pd.read_csv('Dataset/train_logs.csv')\n",
    "df_test = pd.read_csv('Dataset/test_logs.csv')\n",
    "df_train_scores = pd.read_csv('Dataset/train_scores.csv')"
   ]
  },
  {
   "cell_type": "markdown",
   "id": "08192c70-11db-4f6d-adb5-6a4ba879e32b",
   "metadata": {
    "tags": []
   },
   "source": [
    "### Training dataset summary statistics\n",
    "- Examine summary stats\n",
    "- Categorical variables that will need encoding(+cardinality)\n",
    "- Null/empty values"
   ]
  },
  {
   "cell_type": "code",
   "execution_count": 3,
   "id": "7c3fa1d2-14c0-4bf1-8e59-01493aa0abc9",
   "metadata": {},
   "outputs": [
    {
     "data": {
      "text/html": [
       "<div>\n",
       "<style scoped>\n",
       "    .dataframe tbody tr th:only-of-type {\n",
       "        vertical-align: middle;\n",
       "    }\n",
       "\n",
       "    .dataframe tbody tr th {\n",
       "        vertical-align: top;\n",
       "    }\n",
       "\n",
       "    .dataframe thead th {\n",
       "        text-align: right;\n",
       "    }\n",
       "</style>\n",
       "<table border=\"1\" class=\"dataframe\">\n",
       "  <thead>\n",
       "    <tr style=\"text-align: right;\">\n",
       "      <th></th>\n",
       "      <th>id</th>\n",
       "      <th>event_id</th>\n",
       "      <th>down_time</th>\n",
       "      <th>up_time</th>\n",
       "      <th>action_time</th>\n",
       "      <th>activity</th>\n",
       "      <th>down_event</th>\n",
       "      <th>up_event</th>\n",
       "      <th>text_change</th>\n",
       "      <th>cursor_position</th>\n",
       "      <th>word_count</th>\n",
       "    </tr>\n",
       "  </thead>\n",
       "  <tbody>\n",
       "    <tr>\n",
       "      <th>0</th>\n",
       "      <td>001519c8</td>\n",
       "      <td>1</td>\n",
       "      <td>4526</td>\n",
       "      <td>4557</td>\n",
       "      <td>31</td>\n",
       "      <td>Nonproduction</td>\n",
       "      <td>Leftclick</td>\n",
       "      <td>Leftclick</td>\n",
       "      <td>NoChange</td>\n",
       "      <td>0</td>\n",
       "      <td>0</td>\n",
       "    </tr>\n",
       "    <tr>\n",
       "      <th>1</th>\n",
       "      <td>001519c8</td>\n",
       "      <td>2</td>\n",
       "      <td>4558</td>\n",
       "      <td>4962</td>\n",
       "      <td>404</td>\n",
       "      <td>Nonproduction</td>\n",
       "      <td>Leftclick</td>\n",
       "      <td>Leftclick</td>\n",
       "      <td>NoChange</td>\n",
       "      <td>0</td>\n",
       "      <td>0</td>\n",
       "    </tr>\n",
       "    <tr>\n",
       "      <th>2</th>\n",
       "      <td>001519c8</td>\n",
       "      <td>3</td>\n",
       "      <td>106571</td>\n",
       "      <td>106571</td>\n",
       "      <td>0</td>\n",
       "      <td>Nonproduction</td>\n",
       "      <td>Shift</td>\n",
       "      <td>Shift</td>\n",
       "      <td>NoChange</td>\n",
       "      <td>0</td>\n",
       "      <td>0</td>\n",
       "    </tr>\n",
       "    <tr>\n",
       "      <th>3</th>\n",
       "      <td>001519c8</td>\n",
       "      <td>4</td>\n",
       "      <td>106686</td>\n",
       "      <td>106777</td>\n",
       "      <td>91</td>\n",
       "      <td>Input</td>\n",
       "      <td>q</td>\n",
       "      <td>q</td>\n",
       "      <td>q</td>\n",
       "      <td>1</td>\n",
       "      <td>1</td>\n",
       "    </tr>\n",
       "    <tr>\n",
       "      <th>4</th>\n",
       "      <td>001519c8</td>\n",
       "      <td>5</td>\n",
       "      <td>107196</td>\n",
       "      <td>107323</td>\n",
       "      <td>127</td>\n",
       "      <td>Input</td>\n",
       "      <td>q</td>\n",
       "      <td>q</td>\n",
       "      <td>q</td>\n",
       "      <td>2</td>\n",
       "      <td>1</td>\n",
       "    </tr>\n",
       "    <tr>\n",
       "      <th>...</th>\n",
       "      <td>...</td>\n",
       "      <td>...</td>\n",
       "      <td>...</td>\n",
       "      <td>...</td>\n",
       "      <td>...</td>\n",
       "      <td>...</td>\n",
       "      <td>...</td>\n",
       "      <td>...</td>\n",
       "      <td>...</td>\n",
       "      <td>...</td>\n",
       "      <td>...</td>\n",
       "    </tr>\n",
       "    <tr>\n",
       "      <th>8405893</th>\n",
       "      <td>fff05981</td>\n",
       "      <td>3615</td>\n",
       "      <td>2063944</td>\n",
       "      <td>2064440</td>\n",
       "      <td>496</td>\n",
       "      <td>Nonproduction</td>\n",
       "      <td>Leftclick</td>\n",
       "      <td>Leftclick</td>\n",
       "      <td>NoChange</td>\n",
       "      <td>1031</td>\n",
       "      <td>240</td>\n",
       "    </tr>\n",
       "    <tr>\n",
       "      <th>8405894</th>\n",
       "      <td>fff05981</td>\n",
       "      <td>3616</td>\n",
       "      <td>2064497</td>\n",
       "      <td>2064497</td>\n",
       "      <td>0</td>\n",
       "      <td>Nonproduction</td>\n",
       "      <td>Shift</td>\n",
       "      <td>Shift</td>\n",
       "      <td>NoChange</td>\n",
       "      <td>1031</td>\n",
       "      <td>240</td>\n",
       "    </tr>\n",
       "    <tr>\n",
       "      <th>8405895</th>\n",
       "      <td>fff05981</td>\n",
       "      <td>3617</td>\n",
       "      <td>2064657</td>\n",
       "      <td>2064765</td>\n",
       "      <td>108</td>\n",
       "      <td>Replace</td>\n",
       "      <td>q</td>\n",
       "      <td>q</td>\n",
       "      <td>q =&gt; q</td>\n",
       "      <td>1031</td>\n",
       "      <td>240</td>\n",
       "    </tr>\n",
       "    <tr>\n",
       "      <th>8405896</th>\n",
       "      <td>fff05981</td>\n",
       "      <td>3618</td>\n",
       "      <td>2069186</td>\n",
       "      <td>2069259</td>\n",
       "      <td>73</td>\n",
       "      <td>Nonproduction</td>\n",
       "      <td>Leftclick</td>\n",
       "      <td>Leftclick</td>\n",
       "      <td>NoChange</td>\n",
       "      <td>1028</td>\n",
       "      <td>240</td>\n",
       "    </tr>\n",
       "    <tr>\n",
       "      <th>8405897</th>\n",
       "      <td>fff05981</td>\n",
       "      <td>3619</td>\n",
       "      <td>2070065</td>\n",
       "      <td>2070133</td>\n",
       "      <td>68</td>\n",
       "      <td>Input</td>\n",
       "      <td>.</td>\n",
       "      <td>.</td>\n",
       "      <td>.</td>\n",
       "      <td>1029</td>\n",
       "      <td>240</td>\n",
       "    </tr>\n",
       "  </tbody>\n",
       "</table>\n",
       "<p>8405898 rows × 11 columns</p>\n",
       "</div>"
      ],
      "text/plain": [
       "               id  event_id  down_time  up_time  action_time       activity  \\\n",
       "0        001519c8         1       4526     4557           31  Nonproduction   \n",
       "1        001519c8         2       4558     4962          404  Nonproduction   \n",
       "2        001519c8         3     106571   106571            0  Nonproduction   \n",
       "3        001519c8         4     106686   106777           91          Input   \n",
       "4        001519c8         5     107196   107323          127          Input   \n",
       "...           ...       ...        ...      ...          ...            ...   \n",
       "8405893  fff05981      3615    2063944  2064440          496  Nonproduction   \n",
       "8405894  fff05981      3616    2064497  2064497            0  Nonproduction   \n",
       "8405895  fff05981      3617    2064657  2064765          108        Replace   \n",
       "8405896  fff05981      3618    2069186  2069259           73  Nonproduction   \n",
       "8405897  fff05981      3619    2070065  2070133           68          Input   \n",
       "\n",
       "        down_event   up_event text_change  cursor_position  word_count  \n",
       "0        Leftclick  Leftclick    NoChange                0           0  \n",
       "1        Leftclick  Leftclick    NoChange                0           0  \n",
       "2            Shift      Shift    NoChange                0           0  \n",
       "3                q          q           q                1           1  \n",
       "4                q          q           q                2           1  \n",
       "...            ...        ...         ...              ...         ...  \n",
       "8405893  Leftclick  Leftclick    NoChange             1031         240  \n",
       "8405894      Shift      Shift    NoChange             1031         240  \n",
       "8405895          q          q      q => q             1031         240  \n",
       "8405896  Leftclick  Leftclick    NoChange             1028         240  \n",
       "8405897          .          .           .             1029         240  \n",
       "\n",
       "[8405898 rows x 11 columns]"
      ]
     },
     "execution_count": 3,
     "metadata": {},
     "output_type": "execute_result"
    }
   ],
   "source": [
    "df_train"
   ]
  },
  {
   "cell_type": "code",
   "execution_count": 4,
   "id": "9e47adad-77d6-473d-8269-cf86fc347fc8",
   "metadata": {},
   "outputs": [
    {
     "data": {
      "text/html": [
       "<div>\n",
       "<style scoped>\n",
       "    .dataframe tbody tr th:only-of-type {\n",
       "        vertical-align: middle;\n",
       "    }\n",
       "\n",
       "    .dataframe tbody tr th {\n",
       "        vertical-align: top;\n",
       "    }\n",
       "\n",
       "    .dataframe thead th {\n",
       "        text-align: right;\n",
       "    }\n",
       "</style>\n",
       "<table border=\"1\" class=\"dataframe\">\n",
       "  <thead>\n",
       "    <tr style=\"text-align: right;\">\n",
       "      <th></th>\n",
       "      <th>event_id</th>\n",
       "      <th>down_time</th>\n",
       "      <th>up_time</th>\n",
       "      <th>action_time</th>\n",
       "      <th>cursor_position</th>\n",
       "      <th>word_count</th>\n",
       "    </tr>\n",
       "  </thead>\n",
       "  <tbody>\n",
       "    <tr>\n",
       "      <th>count</th>\n",
       "      <td>8.405898e+06</td>\n",
       "      <td>8.405898e+06</td>\n",
       "      <td>8.405898e+06</td>\n",
       "      <td>8.405898e+06</td>\n",
       "      <td>8.405898e+06</td>\n",
       "      <td>8.405898e+06</td>\n",
       "    </tr>\n",
       "    <tr>\n",
       "      <th>mean</th>\n",
       "      <td>2.067649e+03</td>\n",
       "      <td>7.935603e+05</td>\n",
       "      <td>7.936584e+05</td>\n",
       "      <td>9.808498e+01</td>\n",
       "      <td>1.222964e+03</td>\n",
       "      <td>2.314687e+02</td>\n",
       "    </tr>\n",
       "    <tr>\n",
       "      <th>std</th>\n",
       "      <td>1.588284e+03</td>\n",
       "      <td>5.149451e+05</td>\n",
       "      <td>5.149428e+05</td>\n",
       "      <td>2.533985e+02</td>\n",
       "      <td>9.485242e+02</td>\n",
       "      <td>1.759088e+02</td>\n",
       "    </tr>\n",
       "    <tr>\n",
       "      <th>min</th>\n",
       "      <td>1.000000e+00</td>\n",
       "      <td>1.060000e+02</td>\n",
       "      <td>2.520000e+02</td>\n",
       "      <td>0.000000e+00</td>\n",
       "      <td>0.000000e+00</td>\n",
       "      <td>0.000000e+00</td>\n",
       "    </tr>\n",
       "    <tr>\n",
       "      <th>25%</th>\n",
       "      <td>8.520000e+02</td>\n",
       "      <td>3.731842e+05</td>\n",
       "      <td>3.732820e+05</td>\n",
       "      <td>6.600000e+01</td>\n",
       "      <td>4.990000e+02</td>\n",
       "      <td>9.600000e+01</td>\n",
       "    </tr>\n",
       "    <tr>\n",
       "      <th>50%</th>\n",
       "      <td>1.726000e+03</td>\n",
       "      <td>7.208860e+05</td>\n",
       "      <td>7.209800e+05</td>\n",
       "      <td>9.300000e+01</td>\n",
       "      <td>1.043000e+03</td>\n",
       "      <td>2.000000e+02</td>\n",
       "    </tr>\n",
       "    <tr>\n",
       "      <th>75%</th>\n",
       "      <td>2.926000e+03</td>\n",
       "      <td>1.163042e+06</td>\n",
       "      <td>1.163141e+06</td>\n",
       "      <td>1.220000e+02</td>\n",
       "      <td>1.706000e+03</td>\n",
       "      <td>3.270000e+02</td>\n",
       "    </tr>\n",
       "    <tr>\n",
       "      <th>max</th>\n",
       "      <td>1.287600e+04</td>\n",
       "      <td>8.313630e+06</td>\n",
       "      <td>8.313707e+06</td>\n",
       "      <td>4.474700e+05</td>\n",
       "      <td>7.802000e+03</td>\n",
       "      <td>1.326000e+03</td>\n",
       "    </tr>\n",
       "  </tbody>\n",
       "</table>\n",
       "</div>"
      ],
      "text/plain": [
       "           event_id     down_time       up_time   action_time  \\\n",
       "count  8.405898e+06  8.405898e+06  8.405898e+06  8.405898e+06   \n",
       "mean   2.067649e+03  7.935603e+05  7.936584e+05  9.808498e+01   \n",
       "std    1.588284e+03  5.149451e+05  5.149428e+05  2.533985e+02   \n",
       "min    1.000000e+00  1.060000e+02  2.520000e+02  0.000000e+00   \n",
       "25%    8.520000e+02  3.731842e+05  3.732820e+05  6.600000e+01   \n",
       "50%    1.726000e+03  7.208860e+05  7.209800e+05  9.300000e+01   \n",
       "75%    2.926000e+03  1.163042e+06  1.163141e+06  1.220000e+02   \n",
       "max    1.287600e+04  8.313630e+06  8.313707e+06  4.474700e+05   \n",
       "\n",
       "       cursor_position    word_count  \n",
       "count     8.405898e+06  8.405898e+06  \n",
       "mean      1.222964e+03  2.314687e+02  \n",
       "std       9.485242e+02  1.759088e+02  \n",
       "min       0.000000e+00  0.000000e+00  \n",
       "25%       4.990000e+02  9.600000e+01  \n",
       "50%       1.043000e+03  2.000000e+02  \n",
       "75%       1.706000e+03  3.270000e+02  \n",
       "max       7.802000e+03  1.326000e+03  "
      ]
     },
     "execution_count": 4,
     "metadata": {},
     "output_type": "execute_result"
    }
   ],
   "source": [
    "df_train.describe()"
   ]
  },
  {
   "cell_type": "code",
   "execution_count": 5,
   "id": "763d34cf-48f1-40b9-9cb9-2f896e0dcbf7",
   "metadata": {},
   "outputs": [
    {
     "data": {
      "text/plain": [
       "id                 object\n",
       "event_id            int64\n",
       "down_time           int64\n",
       "up_time             int64\n",
       "action_time         int64\n",
       "activity           object\n",
       "down_event         object\n",
       "up_event           object\n",
       "text_change        object\n",
       "cursor_position     int64\n",
       "word_count          int64\n",
       "dtype: object"
      ]
     },
     "execution_count": 5,
     "metadata": {},
     "output_type": "execute_result"
    }
   ],
   "source": [
    "column_types = df_train.dtypes\n",
    "categorical_variables = ['activity', 'down_event', 'up_event', 'text_change']\n",
    "column_types"
   ]
  },
  {
   "cell_type": "markdown",
   "id": "3eeb5b04-6e68-4681-829c-b76b530b54d9",
   "metadata": {},
   "source": [
    "As seen above, out of 11 columns in our training data, 4 are categorical and 7 are not(id has an object dtype but we don't regard it as a categorical variable)"
   ]
  },
  {
   "cell_type": "markdown",
   "id": "f945e2a2-d6a5-4532-a5f4-f5286ecad7e3",
   "metadata": {},
   "source": [
    "Below we get the cardinality of the categorical variables in a dictionary. There are 34 different activity categories, 123 different down_event categories, 121 different up_event categories and 2739 different text_change categories."
   ]
  },
  {
   "cell_type": "code",
   "execution_count": 6,
   "id": "bebeb3ac-59ea-4088-820b-bbd467e9dee4",
   "metadata": {},
   "outputs": [
    {
     "data": {
      "text/plain": [
       "{'activity': 50, 'down_event': 131, 'up_event': 130, 'text_change': 4111}"
      ]
     },
     "execution_count": 6,
     "metadata": {},
     "output_type": "execute_result"
    }
   ],
   "source": [
    "cardinalities = {}\n",
    "for v in categorical_variables:\n",
    "    cardinalities[v] = len(df_train[v].unique())\n",
    "cardinalities"
   ]
  },
  {
   "cell_type": "code",
   "execution_count": 7,
   "id": "dd9e7575-7acf-45a3-a551-b7699673a7cb",
   "metadata": {},
   "outputs": [
    {
     "data": {
      "text/plain": [
       "id                 0\n",
       "event_id           0\n",
       "down_time          0\n",
       "up_time            0\n",
       "action_time        0\n",
       "activity           0\n",
       "down_event         0\n",
       "up_event           0\n",
       "text_change        0\n",
       "cursor_position    0\n",
       "word_count         0\n",
       "dtype: int64"
      ]
     },
     "execution_count": 7,
     "metadata": {},
     "output_type": "execute_result"
    }
   ],
   "source": [
    "nulls = df_train.isnull().sum()\n",
    "nulls"
   ]
  },
  {
   "cell_type": "markdown",
   "id": "b85a5715-e94d-4544-92f7-2acb6fbe9b9c",
   "metadata": {},
   "source": [
    "The first column represents the id of the essay the typing event was registered for. By taking the unique ids we have the number of essays in the dataset. We will need that to engineer the dataset prior to training."
   ]
  },
  {
   "cell_type": "code",
   "execution_count": 8,
   "id": "c4e02929-a98f-4aed-b189-a3cfd9babec5",
   "metadata": {},
   "outputs": [
    {
     "name": "stdout",
     "output_type": "stream",
     "text": [
      "Number of essays in the dataset:  2471\n"
     ]
    }
   ],
   "source": [
    "number_of_essays = df_train['id'].unique()\n",
    "print('Number of essays in the dataset: ', len(number_of_essays))"
   ]
  },
  {
   "cell_type": "markdown",
   "id": "fc780676-b2f4-4299-9b2d-31410acffe56",
   "metadata": {
    "tags": []
   },
   "source": [
    "### Preprocessing"
   ]
  },
  {
   "cell_type": "code",
   "execution_count": null,
   "id": "d0d378c4-33ba-4249-8339-efbbfb560c29",
   "metadata": {},
   "outputs": [],
   "source": [
    "# DATA CLEANING\n",
    "\n",
    "# Impute null values with column mean\n",
    "for column in nulls.keys().tolist():\n",
    "    column_mean = df_train[column].mean()\n",
    "    df_train[column] = df[column].fillna(column_mean)"
   ]
  },
  {
   "cell_type": "code",
   "execution_count": 1,
   "id": "cda67749",
   "metadata": {},
   "outputs": [],
   "source": [
    "# SCALING AND NORMALISATION"
   ]
  },
  {
   "cell_type": "markdown",
   "id": "807d3494-05ca-4987-bc22-73bb0e6bd4ad",
   "metadata": {},
   "source": [
    "### EDA"
   ]
  },
  {
   "cell_type": "code",
   "execution_count": 13,
   "id": "250d00d4-e3a5-4c14-aa9a-e2f5688a260d",
   "metadata": {},
   "outputs": [],
   "source": [
    "# Due to the size of the trainign data, choose a subset to perform eda\n",
    "df_train_eda = df_train.copy().sample(frac=0.1, random_state=42)"
   ]
  },
  {
   "cell_type": "markdown",
   "id": "38c34b72-3ea1-4b01-aae3-5201b86577cc",
   "metadata": {},
   "source": [
    "### Feature engineering"
   ]
  },
  {
   "cell_type": "markdown",
   "id": "6f92ddd1",
   "metadata": {},
   "source": [
    "As mentioned, each typing event corresponds to a specific essay, therefore an essay can be inherently described by the typing events that created it.\n",
    "A natural thing to do to structure the data is to group the typing events based on essay id(aggregate the logs data). After that, we could express each essay with features created from its typing events to create a training dataset."
   ]
  },
  {
   "cell_type": "code",
   "execution_count": null,
   "id": "fa5dba26",
   "metadata": {},
   "outputs": [],
   "source": []
  }
 ],
 "metadata": {
  "kernelspec": {
   "display_name": "Python 3 (ipykernel)",
   "language": "python",
   "name": "python3"
  },
  "language_info": {
   "codemirror_mode": {
    "name": "ipython",
    "version": 3
   },
   "file_extension": ".py",
   "mimetype": "text/x-python",
   "name": "python",
   "nbconvert_exporter": "python",
   "pygments_lexer": "ipython3",
   "version": "3.11.5"
  }
 },
 "nbformat": 4,
 "nbformat_minor": 5
}
